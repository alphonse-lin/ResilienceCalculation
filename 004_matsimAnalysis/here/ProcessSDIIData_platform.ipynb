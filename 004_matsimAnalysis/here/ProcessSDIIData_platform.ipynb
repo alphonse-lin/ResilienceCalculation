{
 "cells": [
  {
   "attachments": {},
   "cell_type": "markdown",
   "metadata": {},
   "source": [
    "# Process SDII Data (Basic)\n",
    "\n",
    "**This notebook demonstrates how to read and perform basic exploratory analysis on archived and streaming SDII data using the Python SDK. SDII stands for Sensor Data Ingestion Interface. [Learn more about the SDII format specification](https://developer.here.com/documentation/sdii-data-spec/topics/introduction.html \"SDII Documentation\")**\n",
    "\n",
    "\n",
    "### Dependencies\n",
    "* Catalogs: [SDII Sample Berlin](https://platform.here.com/data/hrn:here:data::olp-here:olp-sdii-sample-berlin-2)  \n",
    "* Layers: [Sample Versioned Layer](https://platform.here.com/data/hrn:here:data::olp-here:olp-sdii-sample-berlin-2/sample-versioned-layer)\n",
    "* Languages: Python\n",
    "\n",
    "\n",
    "### Test data sample description\n",
    "The data sample contains simulated vehicle travel paths and corresponding simulated traffic sign observations. Although the schema represents the actual SDII data structure not all fields have been populated. The simulated signs are for demonstration purposes only and do not represent actual sign placements. \n",
    "\n",
    "### Workflow\n",
    "- Import packages\n",
    "- Import Python SDK Libraries\n",
    "- Specify data catalog and layer\n",
    "- Specify a bounding box and get tiles\n",
    "- Read SDII data from a versioned layer in HERE deserialize using the Python SDK utilities\n",
    "- Extract information of interest to _pandas_ dataframes for manipulation and visualization\n",
    "- Perform simple exploratory analysis\n",
    "- Read SDII data from a streaming layer and print some trace information"
   ]
  },
  {
   "attachments": {},
   "cell_type": "markdown",
   "metadata": {},
   "source": [
    "## Import Python Packages"
   ]
  },
  {
   "cell_type": "code",
   "execution_count": 1,
   "metadata": {},
   "outputs": [
    {
     "name": "stdout",
     "output_type": "stream",
     "text": [
      "Collecting matplotlib\n",
      "  Downloading matplotlib-3.7.1-cp311-cp311-win_amd64.whl (7.6 MB)\n",
      "                                              0.0/7.6 MB ? eta -:--:--\n",
      "                                              0.0/7.6 MB 960.0 kB/s eta 0:00:08\n",
      "     -                                        0.3/7.6 MB 3.8 MB/s eta 0:00:02\n",
      "     ---                                      0.7/7.6 MB 5.6 MB/s eta 0:00:02\n",
      "     -----                                    1.1/7.6 MB 6.5 MB/s eta 0:00:02\n",
      "     --------                                 1.5/7.6 MB 7.0 MB/s eta 0:00:01\n",
      "     ----------                               1.9/7.6 MB 7.2 MB/s eta 0:00:01\n",
      "     ------------                             2.3/7.6 MB 7.4 MB/s eta 0:00:01\n",
      "     --------------                           2.8/7.6 MB 7.6 MB/s eta 0:00:01\n",
      "     ----------------                         3.1/7.6 MB 7.7 MB/s eta 0:00:01\n",
      "     ------------------                       3.5/7.6 MB 7.9 MB/s eta 0:00:01\n",
      "     --------------------                     3.9/7.6 MB 7.8 MB/s eta 0:00:01\n",
      "     ----------------------                   4.3/7.6 MB 8.0 MB/s eta 0:00:01\n",
      "     ------------------------                 4.7/7.6 MB 7.9 MB/s eta 0:00:01\n",
      "     --------------------------               5.1/7.6 MB 8.0 MB/s eta 0:00:01\n",
      "     -----------------------------            5.5/7.6 MB 8.0 MB/s eta 0:00:01\n",
      "     ------------------------------           5.8/7.6 MB 8.1 MB/s eta 0:00:01\n",
      "     -------------------------------          6.0/7.6 MB 7.7 MB/s eta 0:00:01\n",
      "     ----------------------------------       6.7/7.6 MB 8.0 MB/s eta 0:00:01\n",
      "     -----------------------------------      6.8/7.6 MB 7.9 MB/s eta 0:00:01\n",
      "     -----------------------------------      6.9/7.6 MB 7.7 MB/s eta 0:00:01\n",
      "     ------------------------------------     7.0/7.6 MB 7.3 MB/s eta 0:00:01\n",
      "     ---------------------------------------  7.5/7.6 MB 7.5 MB/s eta 0:00:01\n",
      "     ---------------------------------------  7.6/7.6 MB 7.3 MB/s eta 0:00:01\n",
      "     ---------------------------------------- 7.6/7.6 MB 7.2 MB/s eta 0:00:00\n",
      "Collecting contourpy>=1.0.1 (from matplotlib)\n",
      "  Downloading contourpy-1.1.0-cp311-cp311-win_amd64.whl (470 kB)\n",
      "                                              0.0/470.9 kB ? eta -:--:--\n",
      "     ---------------                        194.6/470.9 kB 5.9 MB/s eta 0:00:01\n",
      "     ----------------------                 276.5/470.9 kB 3.4 MB/s eta 0:00:01\n",
      "     -------------------------------------- 470.9/470.9 kB 5.0 MB/s eta 0:00:00\n",
      "Collecting cycler>=0.10 (from matplotlib)\n",
      "  Using cached cycler-0.11.0-py3-none-any.whl (6.4 kB)\n",
      "Collecting fonttools>=4.22.0 (from matplotlib)\n",
      "  Downloading fonttools-4.40.0-cp311-cp311-win_amd64.whl (1.9 MB)\n",
      "                                              0.0/1.9 MB ? eta -:--:--\n",
      "     -------                                  0.4/1.9 MB 7.6 MB/s eta 0:00:01\n",
      "     ----------------                         0.8/1.9 MB 8.3 MB/s eta 0:00:01\n",
      "     ------------------------                 1.2/1.9 MB 8.4 MB/s eta 0:00:01\n",
      "     --------------------------------         1.6/1.9 MB 8.4 MB/s eta 0:00:01\n",
      "     ---------------------------------------  1.9/1.9 MB 8.8 MB/s eta 0:00:01\n",
      "     ---------------------------------------- 1.9/1.9 MB 8.3 MB/s eta 0:00:00\n",
      "Collecting kiwisolver>=1.0.1 (from matplotlib)\n",
      "  Downloading kiwisolver-1.4.4-cp311-cp311-win_amd64.whl (55 kB)\n",
      "                                              0.0/55.4 kB ? eta -:--:--\n",
      "     ---------------------------------------- 55.4/55.4 kB 2.8 MB/s eta 0:00:00\n",
      "Collecting numpy>=1.20 (from matplotlib)\n",
      "  Downloading numpy-1.25.0-cp311-cp311-win_amd64.whl (15.0 MB)\n",
      "                                              0.0/15.0 MB ? eta -:--:--\n",
      "     -                                        0.4/15.0 MB 8.5 MB/s eta 0:00:02\n",
      "     --                                       0.8/15.0 MB 8.7 MB/s eta 0:00:02\n",
      "     ---                                      1.2/15.0 MB 8.7 MB/s eta 0:00:02\n",
      "     ----                                     1.6/15.0 MB 8.5 MB/s eta 0:00:02\n",
      "     -----                                    2.0/15.0 MB 8.6 MB/s eta 0:00:02\n",
      "     ------                                   2.4/15.0 MB 8.7 MB/s eta 0:00:02\n",
      "     -------                                  2.8/15.0 MB 9.1 MB/s eta 0:00:02\n",
      "     --------                                 3.2/15.0 MB 9.0 MB/s eta 0:00:02\n",
      "     ---------                                3.7/15.0 MB 9.0 MB/s eta 0:00:02\n",
      "     ----------                               4.1/15.0 MB 9.0 MB/s eta 0:00:02\n",
      "     -----------                              4.4/15.0 MB 8.9 MB/s eta 0:00:02\n",
      "     ------------                             4.8/15.0 MB 8.8 MB/s eta 0:00:02\n",
      "     -------------                            5.2/15.0 MB 8.8 MB/s eta 0:00:02\n",
      "     ---------------                          5.6/15.0 MB 8.8 MB/s eta 0:00:02\n",
      "     ----------------                         6.0/15.0 MB 8.8 MB/s eta 0:00:02\n",
      "     -----------------                        6.5/15.0 MB 8.8 MB/s eta 0:00:01\n",
      "     ------------------                       6.9/15.0 MB 8.8 MB/s eta 0:00:01\n",
      "     ------------------                       7.1/15.0 MB 8.8 MB/s eta 0:00:01\n",
      "     --------------------                     7.5/15.0 MB 8.6 MB/s eta 0:00:01\n",
      "     --------------------                     7.8/15.0 MB 8.4 MB/s eta 0:00:01\n",
      "     ----------------------                   8.3/15.0 MB 8.6 MB/s eta 0:00:01\n",
      "     -----------------------                  8.8/15.0 MB 8.6 MB/s eta 0:00:01\n",
      "     ------------------------                 9.2/15.0 MB 8.6 MB/s eta 0:00:01\n",
      "     -------------------------                9.5/15.0 MB 8.6 MB/s eta 0:00:01\n",
      "     --------------------------               10.0/15.0 MB 8.7 MB/s eta 0:00:01\n",
      "     ---------------------------              10.4/15.0 MB 8.7 MB/s eta 0:00:01\n",
      "     ----------------------------             10.8/15.0 MB 8.7 MB/s eta 0:00:01\n",
      "     -----------------------------            11.1/15.0 MB 8.7 MB/s eta 0:00:01\n",
      "     ------------------------------           11.5/15.0 MB 8.6 MB/s eta 0:00:01\n",
      "     -------------------------------          11.7/15.0 MB 8.5 MB/s eta 0:00:01\n",
      "     --------------------------------         12.2/15.0 MB 8.5 MB/s eta 0:00:01\n",
      "     ---------------------------------        12.6/15.0 MB 8.5 MB/s eta 0:00:01\n",
      "     ----------------------------------       13.0/15.0 MB 8.5 MB/s eta 0:00:01\n",
      "     -----------------------------------      13.4/15.0 MB 8.5 MB/s eta 0:00:01\n",
      "     ------------------------------------     13.7/15.0 MB 8.4 MB/s eta 0:00:01\n",
      "     -------------------------------------    14.1/15.0 MB 8.5 MB/s eta 0:00:01\n",
      "     --------------------------------------   14.3/15.0 MB 8.3 MB/s eta 0:00:01\n",
      "     ---------------------------------------  14.8/15.0 MB 8.4 MB/s eta 0:00:01\n",
      "     ---------------------------------------  15.0/15.0 MB 8.4 MB/s eta 0:00:01\n",
      "     ---------------------------------------- 15.0/15.0 MB 8.1 MB/s eta 0:00:00\n",
      "Requirement already satisfied: packaging>=20.0 in d:\\app\\anaconda\\envs\\here\\lib\\site-packages (from matplotlib) (23.1)\n",
      "Collecting pillow>=6.2.0 (from matplotlib)\n",
      "  Downloading Pillow-9.5.0-cp311-cp311-win_amd64.whl (2.5 MB)\n",
      "                                              0.0/2.5 MB ? eta -:--:--\n",
      "     -----                                    0.3/2.5 MB 9.9 MB/s eta 0:00:01\n",
      "     -----------                              0.7/2.5 MB 8.9 MB/s eta 0:00:01\n",
      "     ----------------                         1.1/2.5 MB 9.7 MB/s eta 0:00:01\n",
      "     ----------------------                   1.4/2.5 MB 8.0 MB/s eta 0:00:01\n",
      "     ---------------------------              1.7/2.5 MB 7.9 MB/s eta 0:00:01\n",
      "     ---------------------------------        2.1/2.5 MB 8.3 MB/s eta 0:00:01\n",
      "     ---------------------------------------  2.5/2.5 MB 8.0 MB/s eta 0:00:01\n",
      "     ---------------------------------------- 2.5/2.5 MB 7.6 MB/s eta 0:00:00\n",
      "Collecting pyparsing>=2.3.1 (from matplotlib)\n",
      "  Downloading pyparsing-3.1.0-py3-none-any.whl (102 kB)\n",
      "                                              0.0/102.6 kB ? eta -:--:--\n",
      "     -------------------------------------- 102.6/102.6 kB 5.8 MB/s eta 0:00:00\n",
      "Requirement already satisfied: python-dateutil>=2.7 in d:\\app\\anaconda\\envs\\here\\lib\\site-packages (from matplotlib) (2.8.2)\n",
      "Requirement already satisfied: six>=1.5 in d:\\app\\anaconda\\envs\\here\\lib\\site-packages (from python-dateutil>=2.7->matplotlib) (1.16.0)\n",
      "Installing collected packages: pyparsing, pillow, numpy, kiwisolver, fonttools, cycler, contourpy, matplotlib\n",
      "Successfully installed contourpy-1.1.0 cycler-0.11.0 fonttools-4.40.0 kiwisolver-1.4.4 matplotlib-3.7.1 numpy-1.25.0 pillow-9.5.0 pyparsing-3.1.0\n"
     ]
    }
   ],
   "source": [
    "!pip install matplotlib "
   ]
  },
  {
   "cell_type": "code",
   "execution_count": 2,
   "metadata": {},
   "outputs": [],
   "source": [
    "%matplotlib inline"
   ]
  },
  {
   "cell_type": "code",
   "execution_count": 3,
   "metadata": {},
   "outputs": [],
   "source": [
    "import matplotlib.pyplot as plt\n",
    "import numpy as np\n",
    "import operator"
   ]
  },
  {
   "attachments": {},
   "cell_type": "markdown",
   "metadata": {},
   "source": [
    "This configuration is being used for bar and chart."
   ]
  },
  {
   "cell_type": "code",
   "execution_count": 5,
   "metadata": {},
   "outputs": [],
   "source": [
    "plt.rcParams['figure.figsize'] = (20, 6)\n",
    "plt.rcParams['axes.linewidth'] = 3\n",
    "plt.rcParams['xtick.labelsize'] = 14\n",
    "plt.rcParams['ytick.labelsize'] = 14\n",
    "plt.rcParams['axes.titlesize'] = 20\n",
    "plt.rcParams['axes.labelsize'] = 18"
   ]
  },
  {
   "attachments": {},
   "cell_type": "markdown",
   "metadata": {},
   "source": [
    "## Import the Python SDK libraries"
   ]
  },
  {
   "cell_type": "code",
   "execution_count": 15,
   "metadata": {},
   "outputs": [
    {
     "ename": "ModuleNotFoundError",
     "evalue": "No module named 'here.inspector'",
     "output_type": "error",
     "traceback": [
      "\u001b[1;31m---------------------------------------------------------------------------\u001b[0m",
      "\u001b[1;31mModuleNotFoundError\u001b[0m                       Traceback (most recent call last)",
      "Cell \u001b[1;32mIn[15], line 2\u001b[0m\n\u001b[0;32m      1\u001b[0m \u001b[39mfrom\u001b[39;00m \u001b[39mhere\u001b[39;00m\u001b[39m.\u001b[39;00m\u001b[39mplatform\u001b[39;00m \u001b[39mimport\u001b[39;00m Platform\n\u001b[1;32m----> 2\u001b[0m \u001b[39mfrom\u001b[39;00m \u001b[39mhere\u001b[39;00m\u001b[39m.\u001b[39;00m\u001b[39minspector\u001b[39;00m \u001b[39mimport\u001b[39;00m inspect, Color\n\u001b[0;32m      3\u001b[0m \u001b[39mimport\u001b[39;00m \u001b[39mhere\u001b[39;00m\u001b[39m.\u001b[39;00m\u001b[39mgeotiles\u001b[39;00m\u001b[39m.\u001b[39;00m\u001b[39mheretile\u001b[39;00m \u001b[39mas\u001b[39;00m \u001b[39mht\u001b[39;00m\n\u001b[0;32m      5\u001b[0m \u001b[39mfrom\u001b[39;00m \u001b[39mshapely\u001b[39;00m\u001b[39m.\u001b[39;00m\u001b[39mgeometry\u001b[39;00m \u001b[39mimport\u001b[39;00m  Point\n",
      "\u001b[1;31mModuleNotFoundError\u001b[0m: No module named 'here.inspector'"
     ]
    }
   ],
   "source": [
    "from here.platform import Platform\n",
    "\n"
   ]
  },
  {
   "attachments": {},
   "cell_type": "markdown",
   "metadata": {},
   "source": [
    "# Initialize the platform object"
   ]
  },
  {
   "cell_type": "code",
   "execution_count": 18,
   "metadata": {},
   "outputs": [
    {
     "ename": "AttributeError",
     "evalue": "'Platform' object has no attribute 'tpeg2geojson'",
     "output_type": "error",
     "traceback": [
      "\u001b[1;31m---------------------------------------------------------------------------\u001b[0m",
      "\u001b[1;31mAttributeError\u001b[0m                            Traceback (most recent call last)",
      "Cell \u001b[1;32mIn[18], line 2\u001b[0m\n\u001b[0;32m      1\u001b[0m platform \u001b[39m=\u001b[39m Platform()\n\u001b[1;32m----> 2\u001b[0m platform\u001b[39m.\u001b[39;49mtpeg2geojson(\u001b[39m'\u001b[39m\u001b[39mdata/traffic.tpeg\u001b[39m\u001b[39m'\u001b[39m, \u001b[39m'\u001b[39m\u001b[39mdata/traffic.geojson\u001b[39m\u001b[39m'\u001b[39m)\n",
      "\u001b[1;31mAttributeError\u001b[0m: 'Platform' object has no attribute 'tpeg2geojson'"
     ]
    }
   ],
   "source": [
    "platform = Platform()\n",
    "platform.tpeg2geojson('data/traffic.tpeg', 'data/traffic.geojson')"
   ]
  },
  {
   "attachments": {},
   "cell_type": "markdown",
   "metadata": {},
   "source": [
    "## Specify data catalog and layer"
   ]
  },
  {
   "cell_type": "code",
   "execution_count": 14,
   "metadata": {},
   "outputs": [
    {
     "ename": "AuthenticationException",
     "evalue": "An error occurred during authentication or authorization with HERE\n                    platform: Status 401 -\n                    Reason Unauthorized\n Response: {\"errorId\":\"ERROR-ab49d345-34b4-42d9-9163-7cdc86ebc939\",\"httpStatus\":401,\"errorCode\":401300,\"message\":\"Invalid client credentials.\",\"error\":\"invalid_client\",\"error_description\":\"errorCode: '401300'. Invalid client credentials.\"}",
     "output_type": "error",
     "traceback": [
      "\u001b[1;31m---------------------------------------------------------------------------\u001b[0m",
      "\u001b[1;31mAuthenticationException\u001b[0m                   Traceback (most recent call last)",
      "Cell \u001b[1;32mIn[14], line 4\u001b[0m\n\u001b[0;32m      1\u001b[0m CATALOG_HRN \u001b[39m=\u001b[39m \u001b[39m'\u001b[39m\u001b[39mhrn:here:data::olp-here:olp-sdii-sample-berlin-2\u001b[39m\u001b[39m'\u001b[39m\n\u001b[0;32m      2\u001b[0m LAYER_ID \u001b[39m=\u001b[39m \u001b[39m'\u001b[39m\u001b[39msample-versioned-layer\u001b[39m\u001b[39m'\u001b[39m\n\u001b[1;32m----> 4\u001b[0m catalog \u001b[39m=\u001b[39m platform\u001b[39m.\u001b[39;49mget_catalog(CATALOG_HRN)\n\u001b[0;32m      5\u001b[0m layer \u001b[39m=\u001b[39m catalog\u001b[39m.\u001b[39mget_layer(LAYER_ID)\n",
      "File \u001b[1;32md:\\APP\\anaconda\\envs\\here\\Lib\\site-packages\\here\\platform\\platform.py:315\u001b[0m, in \u001b[0;36mPlatform.get_catalog\u001b[1;34m(self, hrn, adapter, billing_tag)\u001b[0m\n\u001b[0;32m    294\u001b[0m \u001b[39m\u001b[39m\u001b[39m\"\"\"\u001b[39;00m\n\u001b[0;32m    295\u001b[0m \u001b[39mReturn a :class:`Catalog` object for the given HRN.\u001b[39;00m\n\u001b[0;32m    296\u001b[0m \n\u001b[1;32m   (...)\u001b[0m\n\u001b[0;32m    312\u001b[0m \u001b[39m  <here.platform.catalog.Catalog object at 0x...>\u001b[39;00m\n\u001b[0;32m    313\u001b[0m \u001b[39m\"\"\"\u001b[39;00m\n\u001b[0;32m    314\u001b[0m billing_tag \u001b[39m=\u001b[39m billing_tag \u001b[39mor\u001b[39;00m \u001b[39mself\u001b[39m\u001b[39m.\u001b[39mbilling_tag\n\u001b[1;32m--> 315\u001b[0m \u001b[39mif\u001b[39;00m \u001b[39mself\u001b[39;49m\u001b[39m.\u001b[39;49mdata_config_api\u001b[39m.\u001b[39;49mcatalog_exists(catalog_hrn\u001b[39m=\u001b[39;49mhrn):\n\u001b[0;32m    316\u001b[0m     \u001b[39mreturn\u001b[39;00m Catalog(hrn\u001b[39m=\u001b[39mhrn, platform\u001b[39m=\u001b[39m\u001b[39mself\u001b[39m, adapter\u001b[39m=\u001b[39madapter, billing_tag\u001b[39m=\u001b[39mbilling_tag)\n\u001b[0;32m    317\u001b[0m \u001b[39melse\u001b[39;00m:\n",
      "File \u001b[1;32md:\\APP\\anaconda\\envs\\here\\Lib\\site-packages\\here\\platform\\api\\data_config_api.py:142\u001b[0m, in \u001b[0;36mDataConfigApi.catalog_exists\u001b[1;34m(self, catalog_hrn, billing_tag)\u001b[0m\n\u001b[0;32m    140\u001b[0m url \u001b[39m=\u001b[39m \u001b[39mself\u001b[39m\u001b[39m.\u001b[39mformat_url(\u001b[39mself\u001b[39m\u001b[39m.\u001b[39mbase_url, path)\n\u001b[0;32m    141\u001b[0m params \u001b[39m=\u001b[39m {\u001b[39m\"\u001b[39m\u001b[39mbillingTag\u001b[39m\u001b[39m\"\u001b[39m: billing_tag}\n\u001b[1;32m--> 142\u001b[0m resp \u001b[39m=\u001b[39m \u001b[39mself\u001b[39;49m\u001b[39m.\u001b[39;49mhead(url, params)\n\u001b[0;32m    143\u001b[0m \u001b[39mif\u001b[39;00m resp\u001b[39m.\u001b[39mstatus_code \u001b[39m==\u001b[39m \u001b[39m200\u001b[39m:\n\u001b[0;32m    144\u001b[0m     \u001b[39mreturn\u001b[39;00m \u001b[39mTrue\u001b[39;00m\n",
      "File \u001b[1;32md:\\APP\\anaconda\\envs\\here\\Lib\\site-packages\\here\\platform\\api\\base_api.py:122\u001b[0m, in \u001b[0;36mBaseApi.head\u001b[1;34m(self, url, params, headers, **kwargs)\u001b[0m\n\u001b[0;32m    110\u001b[0m \u001b[39mdef\u001b[39;00m \u001b[39mhead\u001b[39m(\n\u001b[0;32m    111\u001b[0m     \u001b[39mself\u001b[39m, url: \u001b[39mstr\u001b[39m, params: Optional[\u001b[39mdict\u001b[39m] \u001b[39m=\u001b[39m \u001b[39mNone\u001b[39;00m, headers: Optional[\u001b[39mdict\u001b[39m] \u001b[39m=\u001b[39m \u001b[39mNone\u001b[39;00m, \u001b[39m*\u001b[39m\u001b[39m*\u001b[39mkwargs\n\u001b[0;32m    112\u001b[0m ) \u001b[39m-\u001b[39m\u001b[39m>\u001b[39m Response:\n\u001b[0;32m    113\u001b[0m \u001b[39m    \u001b[39m\u001b[39m\"\"\"\u001b[39;00m\n\u001b[0;32m    114\u001b[0m \u001b[39m    Perform a head request of an API at specified URL with backoff.\u001b[39;00m\n\u001b[0;32m    115\u001b[0m \n\u001b[1;32m   (...)\u001b[0m\n\u001b[0;32m    120\u001b[0m \u001b[39m    :return: response from the API.\u001b[39;00m\n\u001b[0;32m    121\u001b[0m \u001b[39m    \"\"\"\u001b[39;00m\n\u001b[1;32m--> 122\u001b[0m     \u001b[39mreturn\u001b[39;00m \u001b[39mself\u001b[39;49m\u001b[39m.\u001b[39;49mrequest(\u001b[39m\"\u001b[39;49m\u001b[39mHEAD\u001b[39;49m\u001b[39m\"\u001b[39;49m, url, params\u001b[39m=\u001b[39;49mparams, headers\u001b[39m=\u001b[39;49mheaders, \u001b[39m*\u001b[39;49m\u001b[39m*\u001b[39;49mkwargs)\n",
      "File \u001b[1;32md:\\APP\\anaconda\\envs\\here\\Lib\\site-packages\\here\\platform\\api\\base_api.py:223\u001b[0m, in \u001b[0;36mBaseApi.request\u001b[1;34m(self, method, url, headers, **kwargs)\u001b[0m\n\u001b[0;32m    207\u001b[0m \u001b[39mdef\u001b[39;00m \u001b[39mrequest\u001b[39m(\n\u001b[0;32m    208\u001b[0m     \u001b[39mself\u001b[39m,\n\u001b[0;32m    209\u001b[0m     method: \u001b[39mstr\u001b[39m,\n\u001b[1;32m   (...)\u001b[0m\n\u001b[0;32m    212\u001b[0m     \u001b[39m*\u001b[39m\u001b[39m*\u001b[39mkwargs,\n\u001b[0;32m    213\u001b[0m ) \u001b[39m-\u001b[39m\u001b[39m>\u001b[39m Response:\n\u001b[0;32m    214\u001b[0m \u001b[39m    \u001b[39m\u001b[39m\"\"\"\u001b[39;00m\n\u001b[0;32m    215\u001b[0m \u001b[39m    Performs a request of an API at a specified URL with a backoff.\u001b[39;00m\n\u001b[0;32m    216\u001b[0m \u001b[39m    :param method: The HTTP method to perform.\u001b[39;00m\n\u001b[1;32m   (...)\u001b[0m\n\u001b[0;32m    220\u001b[0m \u001b[39m    :return: response from the API.\u001b[39;00m\n\u001b[0;32m    221\u001b[0m \u001b[39m    \"\"\"\u001b[39;00m\n\u001b[1;32m--> 223\u001b[0m     headers \u001b[39m=\u001b[39m headers \u001b[39mor\u001b[39;00m \u001b[39mself\u001b[39;49m\u001b[39m.\u001b[39;49mheaders\n\u001b[0;32m    224\u001b[0m     headers[\u001b[39m\"\u001b[39m\u001b[39mUser-Agent\u001b[39m\u001b[39m\"\u001b[39m] \u001b[39m=\u001b[39m \u001b[39mself\u001b[39m\u001b[39m.\u001b[39m_user_agent\n\u001b[0;32m    226\u001b[0m     \u001b[39mdef\u001b[39;00m \u001b[39mvalidate_resp_content_length\u001b[39m(resp):\n",
      "File \u001b[1;32md:\\APP\\anaconda\\envs\\here\\Lib\\site-packages\\here\\platform\\api\\base_api.py:83\u001b[0m, in \u001b[0;36mBaseApi.headers\u001b[1;34m(self)\u001b[0m\n\u001b[0;32m     75\u001b[0m \u001b[39m@property\u001b[39m\n\u001b[0;32m     76\u001b[0m \u001b[39mdef\u001b[39;00m \u001b[39mheaders\u001b[39m(\u001b[39mself\u001b[39m) \u001b[39m-\u001b[39m\u001b[39m>\u001b[39m \u001b[39mdict\u001b[39m:\n\u001b[0;32m     77\u001b[0m \u001b[39m    \u001b[39m\u001b[39m\"\"\"\u001b[39;00m\n\u001b[0;32m     78\u001b[0m \u001b[39m    Return HTTP request headers with Bearer token in ``Authorization``\u001b[39;00m\n\u001b[0;32m     79\u001b[0m \u001b[39m    field.\u001b[39;00m\n\u001b[0;32m     80\u001b[0m \n\u001b[0;32m     81\u001b[0m \u001b[39m    :return: authorization tokens\u001b[39;00m\n\u001b[0;32m     82\u001b[0m \u001b[39m    \"\"\"\u001b[39;00m\n\u001b[1;32m---> 83\u001b[0m     \u001b[39mreturn\u001b[39;00m {\u001b[39m\"\u001b[39m\u001b[39mAuthorization\u001b[39m\u001b[39m\"\u001b[39m: \u001b[39mf\u001b[39m\u001b[39m\"\u001b[39m\u001b[39mBearer \u001b[39m\u001b[39m{\u001b[39;00m\u001b[39mself\u001b[39;49m\u001b[39m.\u001b[39;49mauth\u001b[39m.\u001b[39;49mtoken\u001b[39m}\u001b[39;00m\u001b[39m\"\u001b[39m} \u001b[39mif\u001b[39;00m \u001b[39mself\u001b[39m\u001b[39m.\u001b[39mauth \u001b[39melse\u001b[39;00m {}\n",
      "File \u001b[1;32md:\\APP\\anaconda\\envs\\here\\Lib\\site-packages\\here\\platform\\auth.py:78\u001b[0m, in \u001b[0;36mAuth.token\u001b[1;34m(self)\u001b[0m\n\u001b[0;32m     73\u001b[0m     \u001b[39mself\u001b[39m\u001b[39m.\u001b[39m_token_expires_at \u001b[39m=\u001b[39m datetime\u001b[39m.\u001b[39mfromtimestamp(\n\u001b[0;32m     74\u001b[0m         \u001b[39mself\u001b[39m\u001b[39m.\u001b[39mcredentials\u001b[39m.\u001b[39mcred_properties[\u001b[39m\"\u001b[39m\u001b[39mexp\u001b[39m\u001b[39m\"\u001b[39m]\n\u001b[0;32m     75\u001b[0m     )\n\u001b[0;32m     77\u001b[0m \u001b[39mif\u001b[39;00m \u001b[39mnot\u001b[39;00m \u001b[39mself\u001b[39m\u001b[39m.\u001b[39mtoken_still_valid():\n\u001b[1;32m---> 78\u001b[0m     \u001b[39mself\u001b[39;49m\u001b[39m.\u001b[39;49mgenerate_token()\n\u001b[0;32m     79\u001b[0m \u001b[39mreturn\u001b[39;00m \u001b[39mself\u001b[39m\u001b[39m.\u001b[39m_token\n",
      "File \u001b[1;32md:\\APP\\anaconda\\envs\\here\\Lib\\site-packages\\here\\platform\\auth.py:105\u001b[0m, in \u001b[0;36mAuth.generate_token\u001b[1;34m(self)\u001b[0m\n\u001b[0;32m    102\u001b[0m \u001b[39mif\u001b[39;00m \u001b[39mself\u001b[39m\u001b[39m.\u001b[39m_scope:\n\u001b[0;32m    103\u001b[0m     query[\u001b[39m\"\u001b[39m\u001b[39mscope\u001b[39m\u001b[39m\"\u001b[39m] \u001b[39m=\u001b[39m \u001b[39mself\u001b[39m\u001b[39m.\u001b[39m_scope\n\u001b[1;32m--> 105\u001b[0m response_json \u001b[39m=\u001b[39m \u001b[39mself\u001b[39;49m\u001b[39m.\u001b[39;49maaa_oauth2_api\u001b[39m.\u001b[39;49mrequest_scoped_access_token(\n\u001b[0;32m    106\u001b[0m     oauth\u001b[39m=\u001b[39;49moauth, data\u001b[39m=\u001b[39;49murllib\u001b[39m.\u001b[39;49mparse\u001b[39m.\u001b[39;49murlencode(query, doseq\u001b[39m=\u001b[39;49m\u001b[39mFalse\u001b[39;49;00m)\n\u001b[0;32m    107\u001b[0m )\n\u001b[0;32m    109\u001b[0m \u001b[39mself\u001b[39m\u001b[39m.\u001b[39m_token \u001b[39m=\u001b[39m response_json\u001b[39m.\u001b[39mget(\u001b[39m\"\u001b[39m\u001b[39maccess_token\u001b[39m\u001b[39m\"\u001b[39m)\n\u001b[0;32m    110\u001b[0m \u001b[39mself\u001b[39m\u001b[39m.\u001b[39m_token_type \u001b[39m=\u001b[39m response_json\u001b[39m.\u001b[39mget(\u001b[39m\"\u001b[39m\u001b[39mtoken_type\u001b[39m\u001b[39m\"\u001b[39m)\n",
      "File \u001b[1;32md:\\APP\\anaconda\\envs\\here\\Lib\\site-packages\\here\\platform\\api\\aaa_oauth2_api.py:71\u001b[0m, in \u001b[0;36mAAAOauth2Api.request_scoped_access_token\u001b[1;34m(self, oauth, data)\u001b[0m\n\u001b[0;32m     62\u001b[0m \u001b[39mdef\u001b[39;00m \u001b[39mrequest_scoped_access_token\u001b[39m(\u001b[39mself\u001b[39m, oauth: OAuth1, data: \u001b[39mstr\u001b[39m) \u001b[39m-\u001b[39m\u001b[39m>\u001b[39m \u001b[39mdict\u001b[39m:\n\u001b[0;32m     63\u001b[0m \u001b[39m    \u001b[39m\u001b[39m\"\"\"\u001b[39;00m\n\u001b[0;32m     64\u001b[0m \u001b[39m    Request scoped access oauth2 token from platform.\u001b[39;00m\n\u001b[0;32m     65\u001b[0m \n\u001b[1;32m   (...)\u001b[0m\n\u001b[0;32m     69\u001b[0m \u001b[39m    :raises PlatformException: If platform responds with an HTTP error.\u001b[39;00m\n\u001b[0;32m     70\u001b[0m \u001b[39m    \"\"\"\u001b[39;00m\n\u001b[1;32m---> 71\u001b[0m     resp \u001b[39m=\u001b[39m \u001b[39mself\u001b[39;49m\u001b[39m.\u001b[39;49mpost(\n\u001b[0;32m     72\u001b[0m         url\u001b[39m=\u001b[39;49m\u001b[39mself\u001b[39;49m\u001b[39m.\u001b[39;49mbase_url,\n\u001b[0;32m     73\u001b[0m         headers\u001b[39m=\u001b[39;49m{\u001b[39m\"\u001b[39;49m\u001b[39mContent-Type\u001b[39;49m\u001b[39m\"\u001b[39;49m: \u001b[39m\"\u001b[39;49m\u001b[39mapplication/x-www-form-urlencoded\u001b[39;49m\u001b[39m\"\u001b[39;49m},\n\u001b[0;32m     74\u001b[0m         data\u001b[39m=\u001b[39;49mdata,\n\u001b[0;32m     75\u001b[0m         auth\u001b[39m=\u001b[39;49moauth,\n\u001b[0;32m     76\u001b[0m     )\n\u001b[0;32m     77\u001b[0m     \u001b[39mif\u001b[39;00m resp\u001b[39m.\u001b[39mstatus_code \u001b[39m==\u001b[39m \u001b[39m200\u001b[39m:\n\u001b[0;32m     78\u001b[0m         resp_json: \u001b[39mdict\u001b[39m \u001b[39m=\u001b[39m resp\u001b[39m.\u001b[39mjson()\n",
      "File \u001b[1;32md:\\APP\\anaconda\\envs\\here\\Lib\\site-packages\\here\\platform\\api\\base_api.py:145\u001b[0m, in \u001b[0;36mBaseApi.post\u001b[1;34m(self, url, data, params, headers, **kwargs)\u001b[0m\n\u001b[0;32m    143\u001b[0m     \u001b[39mreturn\u001b[39;00m \u001b[39mself\u001b[39m\u001b[39m.\u001b[39mrequest(\u001b[39m\"\u001b[39m\u001b[39mPOST\u001b[39m\u001b[39m\"\u001b[39m, url, json\u001b[39m=\u001b[39mdata, params\u001b[39m=\u001b[39mparams, headers\u001b[39m=\u001b[39mheaders, \u001b[39m*\u001b[39m\u001b[39m*\u001b[39mkwargs)\n\u001b[0;32m    144\u001b[0m \u001b[39melse\u001b[39;00m:\n\u001b[1;32m--> 145\u001b[0m     \u001b[39mreturn\u001b[39;00m \u001b[39mself\u001b[39;49m\u001b[39m.\u001b[39;49mrequest(\u001b[39m\"\u001b[39;49m\u001b[39mPOST\u001b[39;49m\u001b[39m\"\u001b[39;49m, url, data\u001b[39m=\u001b[39;49mdata, params\u001b[39m=\u001b[39;49mparams, headers\u001b[39m=\u001b[39;49mheaders, \u001b[39m*\u001b[39;49m\u001b[39m*\u001b[39;49mkwargs)\n",
      "File \u001b[1;32md:\\APP\\anaconda\\envs\\here\\Lib\\site-packages\\here\\platform\\api\\base_api.py:307\u001b[0m, in \u001b[0;36mBaseApi.request\u001b[1;34m(self, method, url, headers, **kwargs)\u001b[0m\n\u001b[0;32m    304\u001b[0m         \u001b[39mraise\u001b[39;00m AuthenticationException(resp)\n\u001b[0;32m    305\u001b[0m     \u001b[39mreturn\u001b[39;00m resp\n\u001b[1;32m--> 307\u001b[0m result_resp: Response \u001b[39m=\u001b[39m request_impl()\n\u001b[0;32m    308\u001b[0m \u001b[39mreturn\u001b[39;00m result_resp\n",
      "File \u001b[1;32md:\\APP\\anaconda\\envs\\here\\Lib\\site-packages\\backoff\\_sync.py:105\u001b[0m, in \u001b[0;36mretry_exception.<locals>.retry\u001b[1;34m(*args, **kwargs)\u001b[0m\n\u001b[0;32m     96\u001b[0m details \u001b[39m=\u001b[39m {\n\u001b[0;32m     97\u001b[0m     \u001b[39m\"\u001b[39m\u001b[39mtarget\u001b[39m\u001b[39m\"\u001b[39m: target,\n\u001b[0;32m     98\u001b[0m     \u001b[39m\"\u001b[39m\u001b[39margs\u001b[39m\u001b[39m\"\u001b[39m: args,\n\u001b[1;32m   (...)\u001b[0m\n\u001b[0;32m    101\u001b[0m     \u001b[39m\"\u001b[39m\u001b[39melapsed\u001b[39m\u001b[39m\"\u001b[39m: elapsed,\n\u001b[0;32m    102\u001b[0m }\n\u001b[0;32m    104\u001b[0m \u001b[39mtry\u001b[39;00m:\n\u001b[1;32m--> 105\u001b[0m     ret \u001b[39m=\u001b[39m target(\u001b[39m*\u001b[39;49margs, \u001b[39m*\u001b[39;49m\u001b[39m*\u001b[39;49mkwargs)\n\u001b[0;32m    106\u001b[0m \u001b[39mexcept\u001b[39;00m exception \u001b[39mas\u001b[39;00m e:\n\u001b[0;32m    107\u001b[0m     max_tries_exceeded \u001b[39m=\u001b[39m (tries \u001b[39m==\u001b[39m max_tries_value)\n",
      "File \u001b[1;32md:\\APP\\anaconda\\envs\\here\\Lib\\site-packages\\backoff\\_sync.py:105\u001b[0m, in \u001b[0;36mretry_exception.<locals>.retry\u001b[1;34m(*args, **kwargs)\u001b[0m\n\u001b[0;32m     96\u001b[0m details \u001b[39m=\u001b[39m {\n\u001b[0;32m     97\u001b[0m     \u001b[39m\"\u001b[39m\u001b[39mtarget\u001b[39m\u001b[39m\"\u001b[39m: target,\n\u001b[0;32m     98\u001b[0m     \u001b[39m\"\u001b[39m\u001b[39margs\u001b[39m\u001b[39m\"\u001b[39m: args,\n\u001b[1;32m   (...)\u001b[0m\n\u001b[0;32m    101\u001b[0m     \u001b[39m\"\u001b[39m\u001b[39melapsed\u001b[39m\u001b[39m\"\u001b[39m: elapsed,\n\u001b[0;32m    102\u001b[0m }\n\u001b[0;32m    104\u001b[0m \u001b[39mtry\u001b[39;00m:\n\u001b[1;32m--> 105\u001b[0m     ret \u001b[39m=\u001b[39m target(\u001b[39m*\u001b[39;49margs, \u001b[39m*\u001b[39;49m\u001b[39m*\u001b[39;49mkwargs)\n\u001b[0;32m    106\u001b[0m \u001b[39mexcept\u001b[39;00m exception \u001b[39mas\u001b[39;00m e:\n\u001b[0;32m    107\u001b[0m     max_tries_exceeded \u001b[39m=\u001b[39m (tries \u001b[39m==\u001b[39m max_tries_value)\n",
      "File \u001b[1;32md:\\APP\\anaconda\\envs\\here\\Lib\\site-packages\\here\\platform\\api\\base_api.py:304\u001b[0m, in \u001b[0;36mBaseApi.request.<locals>.request_impl\u001b[1;34m()\u001b[0m\n\u001b[0;32m    302\u001b[0m     \u001b[39mraise\u001b[39;00m ResourceLimitExceededException(resp)\n\u001b[0;32m    303\u001b[0m \u001b[39melif\u001b[39;00m resp\u001b[39m.\u001b[39mstatus_code \u001b[39min\u001b[39;00m [\u001b[39m401\u001b[39m, \u001b[39m403\u001b[39m]:\n\u001b[1;32m--> 304\u001b[0m     \u001b[39mraise\u001b[39;00m AuthenticationException(resp)\n\u001b[0;32m    305\u001b[0m \u001b[39mreturn\u001b[39;00m resp\n",
      "\u001b[1;31mAuthenticationException\u001b[0m: An error occurred during authentication or authorization with HERE\n                    platform: Status 401 -\n                    Reason Unauthorized\n Response: {\"errorId\":\"ERROR-ab49d345-34b4-42d9-9163-7cdc86ebc939\",\"httpStatus\":401,\"errorCode\":401300,\"message\":\"Invalid client credentials.\",\"error\":\"invalid_client\",\"error_description\":\"errorCode: '401300'. Invalid client credentials.\"}"
     ]
    }
   ],
   "source": [
    "CATALOG_HRN = 'hrn:here:data::olp-here:olp-sdii-sample-berlin-2'\n",
    "LAYER_ID = 'sample-versioned-layer'\n",
    "\n",
    "catalog = platform.get_catalog(CATALOG_HRN)\n",
    "layer = catalog.get_layer(LAYER_ID)"
   ]
  },
  {
   "attachments": {},
   "cell_type": "markdown",
   "metadata": {},
   "source": [
    "## Specify a bounding box for the data and get the corresponding tiles"
   ]
  },
  {
   "cell_type": "code",
   "execution_count": null,
   "metadata": {},
   "outputs": [],
   "source": [
    "tile_ids = list(ht.between_points(Point(13.3, 52.5), Point(13.5, 52.6), level=14, fully_contained=False))\n",
    "tile_ids[:10]"
   ]
  },
  {
   "attachments": {},
   "cell_type": "markdown",
   "metadata": {},
   "source": [
    "## Read and parse the SDII data"
   ]
  },
  {
   "cell_type": "code",
   "execution_count": null,
   "metadata": {
    "scrolled": true
   },
   "outputs": [],
   "source": [
    "blobs = layer.read_partitions(tile_ids)\n",
    "\n",
    "# We select only the decoded messages, ignoring partition information\n",
    "parsed_blobs = [ blob for _, blob in blobs ]\n",
    "parsed_blobs[:10]"
   ]
  },
  {
   "attachments": {},
   "cell_type": "markdown",
   "metadata": {},
   "source": [
    "## Calulate  number of occurance of RoadSignData"
   ]
  },
  {
   "cell_type": "code",
   "execution_count": null,
   "metadata": {},
   "outputs": [],
   "source": [
    "def get_freq(arr):\n",
    "    elements_count = {}\n",
    "    for element in arr:\n",
    "        if element in elements_count:\n",
    "            elements_count[element] += 1\n",
    "        else:\n",
    "            if element is not None:\n",
    "                elements_count[element] = 1\n",
    "    return elements_count.items()"
   ]
  },
  {
   "attachments": {},
   "cell_type": "markdown",
   "metadata": {},
   "source": [
    "### Assign Data to RoadSignFields"
   ]
  },
  {
   "cell_type": "code",
   "execution_count": null,
   "metadata": {
    "scrolled": true
   },
   "outputs": [],
   "source": [
    "roadSignType_arr2= []\n",
    "roadSignPermanency_arr= []\n",
    "roadSignValue_arr= []\n",
    "messageId_arr= []\n",
    "messageId_count_arr= []\n",
    "messageId_count_dict= {}\n",
    "messageId_lng_lat_dict= {}\n",
    "\n",
    "for blob in parsed_blobs:\n",
    "    for item in getattr(blob, 'messages'):\n",
    "        messageId_arr.append(item.messageId)\n",
    "        messageId_count_arr = list(item.message.path.positionEstimate)\n",
    "        messageId_count_dict[item.messageId] = len(messageId_count_arr)\n",
    "        messageId_lng_lat_dict[item.messageId] = messageId_count_arr\n",
    "        for item2 in item.message.pathEvents.signRecognition:\n",
    "            roadSignType_arr2.append(item2.roadSignType)\n",
    "            roadSignPermanency_arr.append(item2.roadSignPermanency)\n",
    "            if item2.roadSignValue is not '':\n",
    "                roadSignValue_arr.append(item2.roadSignValue)"
   ]
  },
  {
   "attachments": {},
   "cell_type": "markdown",
   "metadata": {},
   "source": [
    "### Fetch RoadSignFields values and their occurance"
   ]
  },
  {
   "cell_type": "code",
   "execution_count": null,
   "metadata": {
    "scrolled": true
   },
   "outputs": [],
   "source": [
    "roadSignType_count_dict= dict(get_freq(roadSignType_arr2))\n",
    "roadSignType_count_dict = dict(sorted(roadSignType_count_dict.items()))\n",
    "roadSignValue_count_dict = dict(get_freq(roadSignValue_arr))\n",
    "messageId_arr= dict(get_freq(messageId_arr))"
   ]
  },
  {
   "attachments": {},
   "cell_type": "markdown",
   "metadata": {},
   "source": [
    "### Number of drives per archiving tile - drives are associated with tiles based on the first GPS point in the trace"
   ]
  },
  {
   "cell_type": "code",
   "execution_count": null,
   "metadata": {},
   "outputs": [],
   "source": [
    "def getMsgCountGroupByTileId(blobs):\n",
    "    data = dict()\n",
    "    for blob in blobs:\n",
    "        data[blob.tileId] = len(blob.messages)\n",
    "    return data"
   ]
  },
  {
   "cell_type": "code",
   "execution_count": null,
   "metadata": {},
   "outputs": [],
   "source": [
    "parsed_data = getMsgCountGroupByTileId(parsed_blobs)\n",
    "df = parsed_data\n",
    "plt.bar(range(len(df)), list(df.values()), align='center')\n",
    "plt.xticks(range(len(df)), list(df.keys()))\n",
    "plt.xlabel('Tile ID')\n",
    "plt.ylabel('Number of messages')\n",
    "plt.grid(True)\n",
    "\n",
    "plt.show()"
   ]
  },
  {
   "attachments": {},
   "cell_type": "markdown",
   "metadata": {},
   "source": [
    "## Traffic sign information"
   ]
  },
  {
   "attachments": {},
   "cell_type": "markdown",
   "metadata": {},
   "source": [
    "### Statistics for different sign types in the sample"
   ]
  },
  {
   "cell_type": "code",
   "execution_count": null,
   "metadata": {},
   "outputs": [],
   "source": [
    "cmap = plt.get_cmap(\"tab20c\")\n",
    "\n",
    "labels_signs = [str(h) for h in roadSignType_count_dict.keys()]\n",
    "\n",
    "pie = plt.pie(roadSignType_count_dict.values(), shadow=False, startangle=140, pctdistance=0.85, colors=cmap.colors)\n",
    "\n",
    "plt.legend(pie[0],labels_signs, bbox_to_anchor=(1,0.5), loc=\"center right\", fontsize=12,\n",
    "           bbox_transform=plt.gcf().transFigure)\n",
    "\n",
    "plt.tight_layout()"
   ]
  },
  {
   "attachments": {},
   "cell_type": "markdown",
   "metadata": {},
   "source": [
    "### Number of signs by permanency"
   ]
  },
  {
   "cell_type": "code",
   "execution_count": null,
   "metadata": {},
   "outputs": [],
   "source": [
    "roadSignPermanency = set(roadSignPermanency_arr)\n",
    "\n",
    "fig, ax =plt.subplots(1,1)\n",
    "data=[[list(roadSignPermanency)[0],len(roadSignPermanency_arr)]]\n",
    "column_labels=[\"roadSignPermanency\", \"count\"]\n",
    "ax.axis('tight')\n",
    "ax.axis('off')\n",
    "ax.table(cellText=data,colLabels=column_labels,loc=\"center\")\n",
    "\n",
    "plt.show()"
   ]
  },
  {
   "attachments": {},
   "cell_type": "markdown",
   "metadata": {},
   "source": [
    "### Number of observation of speed limit signs by value"
   ]
  },
  {
   "cell_type": "code",
   "execution_count": null,
   "metadata": {},
   "outputs": [],
   "source": [
    "plt.bar(range(len(roadSignValue_count_dict)), list(roadSignValue_count_dict.values()), align='center')\n",
    "plt.xticks(range(len(roadSignValue_count_dict)), list(roadSignValue_count_dict.keys()))\n",
    "plt.xlabel('Speed sign value')\n",
    "plt.ylabel('Number of signs')\n",
    "plt.grid(True)\n",
    "\n",
    "plt.show()"
   ]
  },
  {
   "attachments": {},
   "cell_type": "markdown",
   "metadata": {},
   "source": [
    "### Number of GPS points recorded in each drive (sorted from longest to shortest trace)"
   ]
  },
  {
   "cell_type": "code",
   "execution_count": null,
   "metadata": {},
   "outputs": [],
   "source": [
    "msgs_by_count = messageId_count_dict\n",
    "max_obs = max(messageId_count_dict.values())\n",
    "bins=list(range(1,max_obs+2, 5))"
   ]
  },
  {
   "cell_type": "code",
   "execution_count": null,
   "metadata": {},
   "outputs": [],
   "source": [
    "# Implementation of matplotlib function\n",
    "import matplotlib\n",
    "import numpy as np\n",
    "import matplotlib.pyplot as plt\n",
    "\n",
    "np.random.seed(10**7)\n",
    "mu = 1\n",
    "sigma = 21\n",
    "x = messageId_count_dict.values()\n",
    "num_bins = bins\n",
    "\n",
    "n, num_bins, patches = plt.hist(x, bins)\n",
    "\n",
    "y = ((1 / (np.sqrt(2 * np.pi) * sigma)) *\n",
    "    np.exp(-1 * (1 / sigma * (num_bins - mu))**2))\n",
    "\n",
    "plt.plot(bins, y)\n",
    "\n",
    "plt.title('Number of GPS points per message')\n",
    "plt.xlabel('Number of GPS points')\n",
    "plt.ylabel('Number of messages')\n",
    "plt.grid(True)\n",
    "\n",
    "plt.show()"
   ]
  },
  {
   "attachments": {},
   "cell_type": "markdown",
   "metadata": {},
   "source": [
    "### Get the longest drive (based on number of GPS points)"
   ]
  },
  {
   "cell_type": "code",
   "execution_count": null,
   "metadata": {},
   "outputs": [],
   "source": [
    "msgs_by_count_sorted = dict( sorted(msgs_by_count.items(), key=operator.itemgetter(1),reverse=True))\n",
    "frq_msg = list(msgs_by_count_sorted.keys())[0]\n",
    "lat_lon_list = list(messageId_lng_lat_dict[frq_msg])\n",
    "\n",
    "points = [ Point(item.longitude_deg, item.latitude_deg) for item in lat_lon_list ]\n",
    "\n",
    "inspect(points, style=Color.BLUE)"
   ]
  },
  {
   "attachments": {},
   "cell_type": "markdown",
   "metadata": {},
   "source": [
    "# Loading SDII data from streaming layers"
   ]
  },
  {
   "cell_type": "code",
   "execution_count": null,
   "metadata": {},
   "outputs": [],
   "source": [
    "LAYER_ID = 'sample-streaming-layer'\n",
    "\n",
    "layer = catalog.get_layer(LAYER_ID)\n",
    "subscription = layer.subscribe()\n",
    "\n",
    "# get data formatted similar to a partition object\n",
    "parsed_msgs = layer.read_stream(subscription=subscription)\n",
    "\n",
    "parsed_data_list = [ msg.path.positionEstimate for _, msg in parsed_msgs ]\n",
    "\n",
    "result_data = []\n",
    "for i in range(len(parsed_data_list[0])):\n",
    "    result_data.append([])\n",
    "    result_data[i].append(parsed_data_list[0][i].timeStampUTC_ms)\n",
    "    result_data[i].append(parsed_data_list[0][i].latitude_deg)\n",
    "    result_data[i].append(parsed_data_list[0][i].longitude_deg)\n",
    "    result_data[i].append(parsed_data_list[0][i].heading_deg)\n",
    "    result_data[i].append(parsed_data_list[0][i].speed_mps)\n",
    "    if i == 4:\n",
    "        break\n",
    "\n",
    "fig, ax = plt.subplots(1,1)\n",
    "column_labels=[\"timeStampUTC_ms\", \"latitude_deg\", \"longitude_deg\", \"heading_deg\", \"speed_mps\"]\n",
    "ax.axis('tight')\n",
    "ax.axis('off')\n",
    "ax.table(cellText=result_data,colLabels=column_labels,loc=\"center\")\n",
    "\n",
    "plt.show()"
   ]
  },
  {
   "attachments": {},
   "cell_type": "markdown",
   "metadata": {},
   "source": [
    "### Cleaning up"
   ]
  },
  {
   "attachments": {},
   "cell_type": "markdown",
   "metadata": {},
   "source": [
    "When done, unsubscribe from the stream."
   ]
  },
  {
   "cell_type": "code",
   "execution_count": null,
   "metadata": {},
   "outputs": [],
   "source": [
    "subscription.unsubscribe()"
   ]
  },
  {
   "attachments": {},
   "cell_type": "markdown",
   "metadata": {},
   "source": [
    "<span style=\"float:left; margin-top:3px;\"><img src=\"https://www.here.com/themes/custom/here_base_theme_v2/logo.svg\" alt=\"HERE Logo\" height=\"60\" width=\"60\"></span><span style=\"float:right; width:90%;\"><sub><b>Copyright (c) 2020-2021 HERE Global B.V. and its affiliate(s). All rights reserved.</b>\n",
    "This software, including documentation, is protected by copyright controlled by HERE. All rights are reserved. Copying, including reproducing, storing, adapting or translating, any or all of this material requires the prior written consent of HERE. This material also contains confidential information which may not be disclosed to others without the prior written consent of HERE.</sub></span>"
   ]
  }
 ],
 "metadata": {
  "kernelspec": {
   "display_name": "Python 3 (ipykernel)",
   "language": "python",
   "name": "python3"
  },
  "language_info": {
   "codemirror_mode": {
    "name": "ipython",
    "version": 3
   },
   "file_extension": ".py",
   "mimetype": "text/x-python",
   "name": "python",
   "nbconvert_exporter": "python",
   "pygments_lexer": "ipython3",
   "version": "3.11.4"
  }
 },
 "nbformat": 4,
 "nbformat_minor": 4
}
